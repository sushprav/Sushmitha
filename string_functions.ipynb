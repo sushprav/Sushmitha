{
  "cells": [
    {
      "cell_type": "markdown",
      "metadata": {
        "id": "view-in-github",
        "colab_type": "text"
      },
      "source": [
        "<a href=\"https://colab.research.google.com/github/sushprav/Sushmitha/blob/main/string_functions.ipynb\" target=\"_parent\"><img src=\"https://colab.research.google.com/assets/colab-badge.svg\" alt=\"Open In Colab\"/></a>"
      ]
    },
    {
      "cell_type": "code",
      "execution_count": 2,
      "id": "56effb1f",
      "metadata": {
        "id": "56effb1f"
      },
      "outputs": [],
      "source": [
        "x=\"data science\"\n",
        "y=\"machine learning\"\n",
        "z=\"edukron\""
      ]
    },
    {
      "cell_type": "markdown",
      "id": "f43bcc08",
      "metadata": {
        "id": "f43bcc08"
      },
      "source": [
        "# Write a Python program that takes the strings \"x\", \"y\", and \"z\" and creates a new string that concatenates them in reverse order.\n"
      ]
    },
    {
      "cell_type": "code",
      "execution_count": 5,
      "id": "b8c2e365",
      "metadata": {
        "colab": {
          "base_uri": "https://localhost:8080/"
        },
        "id": "b8c2e365",
        "outputId": "302ea131-871d-4121-f541-3bc14ae1e6fa"
      },
      "outputs": [
        {
          "output_type": "stream",
          "name": "stdout",
          "text": [
            "ecneics atad,gninrael enihcam,norkude\n"
          ]
        }
      ],
      "source": [
        "string=x[::-1]+\",\" +y[::-1]+\",\"+z[::-1]\n",
        "print(string)"
      ]
    },
    {
      "cell_type": "markdown",
      "id": "142f5847",
      "metadata": {
        "id": "142f5847"
      },
      "source": [
        "# Write a Python program that takes the string \"x\" and returns a new string with every other character removed.\n"
      ]
    },
    {
      "cell_type": "code",
      "execution_count": 6,
      "id": "a7cdb10d",
      "metadata": {
        "colab": {
          "base_uri": "https://localhost:8080/"
        },
        "id": "a7cdb10d",
        "outputId": "c51ba57e-e30d-4972-c2ef-7da3d711bad9"
      },
      "outputs": [
        {
          "output_type": "stream",
          "name": "stdout",
          "text": [
            "dt cec\n"
          ]
        }
      ],
      "source": [
        "string=x[::2]\n",
        "print(string)"
      ]
    },
    {
      "cell_type": "markdown",
      "id": "efb79444",
      "metadata": {
        "id": "efb79444"
      },
      "source": [
        "# Write a Python program that takes the string \"y\" and returns a new string with all the vowels replaced by asterisks.\n"
      ]
    },
    {
      "cell_type": "code",
      "execution_count": 7,
      "id": "637d9ef8",
      "metadata": {
        "colab": {
          "base_uri": "https://localhost:8080/"
        },
        "id": "637d9ef8",
        "outputId": "36a3acb6-7109-404d-c246-cfc1fbaf9868"
      },
      "outputs": [
        {
          "output_type": "stream",
          "name": "stdout",
          "text": [
            "d*t* sc**nc*\n"
          ]
        }
      ],
      "source": [
        "def replace_vowels(string):\n",
        "  vowels=\"aeiouAEIOU\"\n",
        "  new_string= string\n",
        "  for vowel in vowels:\n",
        "    new_string=new_string.replace(vowel,\"*\")\n",
        "  return new_string\n",
        "x=\"data science\"\n",
        "new_x=replace_vowels(x)\n",
        "print(new_x)\n"
      ]
    },
    {
      "cell_type": "markdown",
      "id": "6611d8a1",
      "metadata": {
        "id": "6611d8a1"
      },
      "source": [
        "# Write a Python program that takes the string \"z\" and returns a new string with all the occurrences of \"eduk\" replaced by \"edu\".\n"
      ]
    },
    {
      "cell_type": "code",
      "execution_count": 9,
      "id": "2bda92e0",
      "metadata": {
        "colab": {
          "base_uri": "https://localhost:8080/"
        },
        "id": "2bda92e0",
        "outputId": "52370990-0925-4efe-c4b3-0a047ac8d0db"
      },
      "outputs": [
        {
          "output_type": "stream",
          "name": "stdout",
          "text": [
            "eduron\n"
          ]
        }
      ],
      "source": [
        "def replace(string,oldsubstring,newsubstring):\n",
        "  return string.replace(oldsubstring,newsubstring)\n",
        "z=\"edukron\"\n",
        "a=replace(z,\"eduk\",\"edu\")\n",
        "print(a)"
      ]
    },
    {
      "cell_type": "markdown",
      "id": "9decf46f",
      "metadata": {
        "id": "9decf46f"
      },
      "source": [
        "# Write a Python program that takes the strings \"x\", \"y\", and \"z\" and creates a new string that is the concatenation of the first letter of each string.\n"
      ]
    },
    {
      "cell_type": "code",
      "execution_count": 11,
      "id": "b9c4338a",
      "metadata": {
        "colab": {
          "base_uri": "https://localhost:8080/"
        },
        "id": "b9c4338a",
        "outputId": "14ce9e9e-e075-4217-81fe-3965870fbab9"
      },
      "outputs": [
        {
          "output_type": "stream",
          "name": "stdout",
          "text": [
            "dme\n"
          ]
        }
      ],
      "source": [
        "def concatenate(string1,string2,string3):\n",
        "  return string1[0]+string2[0]+string3[0]\n",
        "a=concatenate(x,y,z)\n",
        "print(a)"
      ]
    },
    {
      "cell_type": "markdown",
      "id": "ea4ce514",
      "metadata": {
        "id": "ea4ce514"
      },
      "source": [
        "# Write a Python program that takes the strings \"x\", \"y\", and \"z\" and creates a new string that is the concatenation of the last letter of each string.\n"
      ]
    },
    {
      "cell_type": "code",
      "execution_count": 12,
      "id": "a4ca87a7",
      "metadata": {
        "colab": {
          "base_uri": "https://localhost:8080/"
        },
        "id": "a4ca87a7",
        "outputId": "fe4b30c6-c964-43b2-f33a-8c2b874129f1"
      },
      "outputs": [
        {
          "output_type": "stream",
          "name": "stdout",
          "text": [
            "egn\n"
          ]
        }
      ],
      "source": [
        "def concatenate(string1,string2,string3):\n",
        "  return string1[-1]+string2[-1]+string3[-1]\n",
        "a=concatenate(x,y,z)\n",
        "print(a)"
      ]
    },
    {
      "cell_type": "markdown",
      "id": "5ae9b5b2",
      "metadata": {
        "id": "5ae9b5b2"
      },
      "source": [
        "# Write a Python program that takes the strings \"x\" and \"y\" and creates a new string that is the concatenation of the first three letters of \"x\" and the last three letters of \"y\".\n"
      ]
    },
    {
      "cell_type": "code",
      "execution_count": 43,
      "id": "c4de34a2",
      "metadata": {
        "colab": {
          "base_uri": "https://localhost:8080/"
        },
        "id": "c4de34a2",
        "outputId": "d14ab974-0dcc-471e-baa9-fa50186a35df"
      },
      "outputs": [
        {
          "output_type": "stream",
          "name": "stdout",
          "text": [
            "dating\n"
          ]
        }
      ],
      "source": [
        "def concatenate(string1,string2):\n",
        "  return string1[:3]+string2[-3:]\n",
        "a=concatenate(x,y)\n",
        "print(a)"
      ]
    },
    {
      "cell_type": "markdown",
      "id": "c632a9db",
      "metadata": {
        "id": "c632a9db"
      },
      "source": [
        "# Write a Python program that takes the string \"z\" and returns a new string with all the characters in reverse order.\n"
      ]
    },
    {
      "cell_type": "code",
      "execution_count": 17,
      "id": "0675912e",
      "metadata": {
        "colab": {
          "base_uri": "https://localhost:8080/"
        },
        "id": "0675912e",
        "outputId": "15f4f764-343c-4255-dd2c-bfaf4bf5562b"
      },
      "outputs": [
        {
          "output_type": "stream",
          "name": "stdout",
          "text": [
            "norkude\n"
          ]
        }
      ],
      "source": [
        "a=z[::-1]\n",
        "print(a)"
      ]
    },
    {
      "cell_type": "markdown",
      "id": "1e2b26f5",
      "metadata": {
        "id": "1e2b26f5"
      },
      "source": [
        "# Write a Python program that takes the strings \"x\", \"y\", and \"z\" and returns a new string with all the occurrences of \"e\" replaced by \"3\".\n"
      ]
    },
    {
      "cell_type": "code",
      "execution_count": 41,
      "id": "96a256d7",
      "metadata": {
        "colab": {
          "base_uri": "https://localhost:8080/"
        },
        "id": "96a256d7",
        "outputId": "e2385653-9b81-47e4-b7ea-a22143e91137"
      },
      "outputs": [
        {
          "output_type": "stream",
          "name": "stdout",
          "text": [
            "data sci3nc3;machin3 l3arning:3dukron\n"
          ]
        }
      ],
      "source": [
        "def replace(string,oldchar,newchar):\n",
        "  return string.replace(oldchar,newchar)\n",
        "  \n",
        "x = \"data science\"\n",
        "y = \"machine learning\"\n",
        "z = \"edukron\"\n",
        "a=replace(x,\"e\",'3')\n",
        "b=replace(y,\"e\",'3')\n",
        "c=replace(z,\"e\",'3')\n",
        "add=a+\";\"+b+\":\"+c\n",
        "print(add)\n"
      ]
    },
    {
      "cell_type": "code",
      "source": [
        "def replace_character(string, old_char, new_char):\n",
        "    result = string.replace(old_char, new_char)\n",
        "    return result\n",
        "\n",
        "x = \"data science\"\n",
        "y = \"machine learning\"\n",
        "z = \"edukron\"\n",
        "\n",
        "new_x = replace_character(x, 'e', '3')\n",
        "new_y = replace_character(y, 'e', '3')\n",
        "new_z = replace_character(z, 'e', '3')\n",
        "\n",
        "print(new_x)\n",
        "print(new_y)\n",
        "print(new_z)"
      ],
      "metadata": {
        "colab": {
          "base_uri": "https://localhost:8080/"
        },
        "id": "sP-pS3bC8gqM",
        "outputId": "92751e83-8096-4b9b-bbc2-a8c9b1d2c390"
      },
      "id": "sP-pS3bC8gqM",
      "execution_count": 38,
      "outputs": [
        {
          "output_type": "stream",
          "name": "stdout",
          "text": [
            "data sci3nc3\n",
            "machin3 l3arning\n",
            "3dukron\n"
          ]
        }
      ]
    },
    {
      "cell_type": "markdown",
      "id": "edcd80be",
      "metadata": {
        "id": "edcd80be"
      },
      "source": [
        "# Write a Python program that takes the strings \"x\", \"y\", and \"z\" and returns a new string with all the occurrences of \"i\" replaced by \"1\".\n"
      ]
    },
    {
      "cell_type": "code",
      "source": [
        "aaazzz  ..\n",
        "\n",
        "xxcn\n"
      ],
      "metadata": {
        "id": "e3jig_1a9Qdr"
      },
      "id": "e3jig_1a9Qdr",
      "execution_count": null,
      "outputs": []
    },
    {
      "cell_type": "code",
      "execution_count": 42,
      "id": "7f19d8c6",
      "metadata": {
        "colab": {
          "base_uri": "https://localhost:8080/"
        },
        "id": "7f19d8c6",
        "outputId": "7f606f21-5b2d-47b9-abbe-0e2166810312"
      },
      "outputs": [
        {
          "output_type": "stream",
          "name": "stdout",
          "text": [
            "data sc1ence\n",
            "mach1ne learn1ng\n",
            "edukron\n"
          ]
        }
      ],
      "source": [
        "def replace_character(string, old_char, new_char):\n",
        "    result = string.replace(old_char, new_char)\n",
        "    return result\n",
        "\n",
        "x = \"data science\"\n",
        "y = \"machine learning\"\n",
        "z = \"edukron\"\n",
        "\n",
        "new_x = replace_character(x, 'i', '1')\n",
        "new_y = replace_character(y, 'i', '1')\n",
        "new_z = replace_character(z, 'i', '1')\n",
        "\n",
        "print(new_x)\n",
        "print(new_y)\n",
        "print(new_z)"
      ]
    },
    {
      "cell_type": "markdown",
      "id": "a82ac41b",
      "metadata": {
        "id": "a82ac41b"
      },
      "source": [
        "# Write a Python program that takes the strings \"x\", \"y\", and \"z\" and creates a new string that is the concatenation of the first two letters of each string.\n"
      ]
    },
    {
      "cell_type": "code",
      "execution_count": 32,
      "id": "af03e566",
      "metadata": {
        "colab": {
          "base_uri": "https://localhost:8080/"
        },
        "id": "af03e566",
        "outputId": "324d2f14-dc40-4759-c355-e7b03d290558"
      },
      "outputs": [
        {
          "output_type": "stream",
          "name": "stdout",
          "text": [
            "damaed\n"
          ]
        }
      ],
      "source": [
        "x=\"datascience\"\n",
        "y=\"machine learning\"\n",
        "z=\"edukron\"\n",
        "def concatenate(string1,string2,string3):\n",
        "  return string1[:2]+string2[:2]+string3[:2]\n",
        "a=concatenate(x,y,z)\n",
        "print(a)"
      ]
    },
    {
      "cell_type": "code",
      "source": [
        "x=\"sushmitha\""
      ],
      "metadata": {
        "id": "FZNmNmAh6Um0"
      },
      "id": "FZNmNmAh6Um0",
      "execution_count": 26,
      "outputs": []
    },
    {
      "cell_type": "code",
      "source": [
        "x[:2]\n"
      ],
      "metadata": {
        "colab": {
          "base_uri": "https://localhost:8080/",
          "height": 35
        },
        "id": "HcnET48J6iVJ",
        "outputId": "f93ee679-f8bd-4e8d-a0a9-57ef11b33daa"
      },
      "id": "HcnET48J6iVJ",
      "execution_count": 31,
      "outputs": [
        {
          "output_type": "execute_result",
          "data": {
            "text/plain": [
              "'su'"
            ],
            "application/vnd.google.colaboratory.intrinsic+json": {
              "type": "string"
            }
          },
          "metadata": {},
          "execution_count": 31
        }
      ]
    },
    {
      "cell_type": "markdown",
      "id": "1d82238e",
      "metadata": {
        "id": "1d82238e"
      },
      "source": [
        "# Write a Python program that takes the strings \"x\", \"y\", and \"z\" and creates a new string that is the concatenation of the last two letters of each string.\n"
      ]
    },
    {
      "cell_type": "code",
      "execution_count": 44,
      "id": "20f08613",
      "metadata": {
        "colab": {
          "base_uri": "https://localhost:8080/"
        },
        "id": "20f08613",
        "outputId": "5b133344-80f8-46d4-8cd2-e67fefcf8e46"
      },
      "outputs": [
        {
          "output_type": "stream",
          "name": "stdout",
          "text": [
            "cengon\n"
          ]
        }
      ],
      "source": [
        "def concatenate(string1,string2,string3):\n",
        "  return string1[-2:]+string2[-2:]+string3[-2:]\n",
        "a=concatenate(x,y,z)\n",
        "print(a)"
      ]
    },
    {
      "cell_type": "markdown",
      "id": "7a6bd848",
      "metadata": {
        "id": "7a6bd848"
      },
      "source": [
        "# Write a Python program that takes the strings \"x\" and \"y\" and creates a new string that is the concatenation of the first three letters of \"y\" and the last three letters of \"x\".\n"
      ]
    },
    {
      "cell_type": "code",
      "execution_count": 45,
      "id": "d955250e",
      "metadata": {
        "colab": {
          "base_uri": "https://localhost:8080/"
        },
        "id": "d955250e",
        "outputId": "ad486fcf-e266-466e-9c78-789437bca39e"
      },
      "outputs": [
        {
          "output_type": "stream",
          "name": "stdout",
          "text": [
            "macnce\n"
          ]
        }
      ],
      "source": [
        "def concatenate(string1,string2):\n",
        "  return string1[:3]+string2[-3:]\n",
        "a=concatenate(y,x)\n",
        "print(a)"
      ]
    },
    {
      "cell_type": "markdown",
      "id": "60afcb53",
      "metadata": {
        "id": "60afcb53"
      },
      "source": [
        "# Write a Python program that takes the string \"z\" and returns a new string with all the occurrences of \"o\" replaced by \"0\".\n"
      ]
    },
    {
      "cell_type": "code",
      "execution_count": 46,
      "id": "766915c0",
      "metadata": {
        "colab": {
          "base_uri": "https://localhost:8080/"
        },
        "id": "766915c0",
        "outputId": "e801027a-6465-4535-a690-fcb38504d9c2"
      },
      "outputs": [
        {
          "output_type": "stream",
          "name": "stdout",
          "text": [
            "edukr0n\n"
          ]
        }
      ],
      "source": [
        "def replace_character(string, old_char, new_char):\n",
        "    result = string.replace(old_char, new_char)\n",
        "    return result\n",
        "\n",
        "\n",
        "z = \"edukron\"\n",
        "\n",
        "\n",
        "new_z = replace_character(z, 'o', '0')\n",
        "\n",
        "\n",
        "print(new_z)"
      ]
    },
    {
      "cell_type": "markdown",
      "id": "85bd5c64",
      "metadata": {
        "id": "85bd5c64"
      },
      "source": [
        "# Write a Python program that takes the strings \"x\", \"y\", and \"z\" and returns a new string that is the concatenation of the first letter of \"x\", the second letter of \"y\", and the third letter of \"z\"."
      ]
    },
    {
      "cell_type": "code",
      "execution_count": 47,
      "id": "fac88bdb",
      "metadata": {
        "colab": {
          "base_uri": "https://localhost:8080/"
        },
        "id": "fac88bdb",
        "outputId": "0875b5c8-68e4-420f-c910-a5aeec2ba7c6"
      },
      "outputs": [
        {
          "output_type": "stream",
          "name": "stdout",
          "text": [
            "dak\n"
          ]
        }
      ],
      "source": [
        "def concatenate(string1,string2,string3):\n",
        "  return string1[0]+string2[1]+string3[3]\n",
        "a=concatenate(x,y,z)\n",
        "print(a)"
      ]
    }
  ],
  "metadata": {
    "hide_input": false,
    "kernelspec": {
      "display_name": "Python 3 (ipykernel)",
      "language": "python",
      "name": "python3"
    },
    "language_info": {
      "codemirror_mode": {
        "name": "ipython",
        "version": 3
      },
      "file_extension": ".py",
      "mimetype": "text/x-python",
      "name": "python",
      "nbconvert_exporter": "python",
      "pygments_lexer": "ipython3",
      "version": "3.9.12"
    },
    "toc": {
      "base_numbering": 1,
      "nav_menu": {},
      "number_sections": true,
      "sideBar": true,
      "skip_h1_title": false,
      "title_cell": "Table of Contents",
      "title_sidebar": "Contents",
      "toc_cell": false,
      "toc_position": {},
      "toc_section_display": true,
      "toc_window_display": false
    },
    "colab": {
      "provenance": [],
      "include_colab_link": true
    }
  },
  "nbformat": 4,
  "nbformat_minor": 5
}