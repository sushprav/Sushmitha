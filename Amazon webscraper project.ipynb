{
 "cells": [
  {
   "cell_type": "code",
   "execution_count": 2,
   "id": "5300b547",
   "metadata": {},
   "outputs": [],
   "source": [
    "### import Required libraries\n",
    "import requests\n",
    "from bs4 import BeautifulSoup\n",
    "\n",
    "import time\n",
    "import datetime"
   ]
  },
  {
   "cell_type": "code",
   "execution_count": 16,
   "id": "24ba7ffe",
   "metadata": {
    "scrolled": true
   },
   "outputs": [
    {
     "name": "stdout",
     "output_type": "stream",
     "text": [
      "\n",
      "            Bosch Pro 1000W Mixer Grinder MGM8842MIN - Black\n",
      "           \n",
      "\n",
      "\n",
      "             12,060 ratings\n",
      "            \n",
      "\n",
      "Bosch Pro 1000W Mixer Grinder MGM8842MIN - Black\n",
      "12,060 ratings\n"
     ]
    }
   ],
   "source": [
    "### connect to the website\n",
    "url=\"https://www.amazon.in/Bosch-TrueMixx-Pro-Grinder-Watt-MGM8842MIN/dp/B07MKMFKPG/ref=sr_1_3?keywords=bosch+mixie&qid=1680034061&s=kitchen&sr=1-3\"\n",
    "headers= {\"User-Agent\": \"Mozilla/5.0 (Windows NT 10.0; Win64; x64) AppleWebKit/537.36 (KHTML, like Gecko) Chrome/111.0.0.0 Safari/537.36\", \n",
    "    \"X-Amzn-Trace-Id\": \"Root=1-64234c83-1e5a7aeb47e8a441188a9744\"}\n",
    "page=requests.get(url,headers=headers)\n",
    "soup1=BeautifulSoup(page.content,\"html.parser\")\n",
    "soup2=BeautifulSoup(soup1.prettify(),\"html.parser\")\n",
    "title= soup2.find(id='productTitle').get_text()\n",
    "ratings=soup2.find(id=\"acrCustomerReviewLink\").get_text()\n",
    "print(title)\n",
    "print(ratings)\n",
    "title=title.strip()\n",
    "ratings=ratings.strip()\n",
    "print(title)\n",
    "print(ratings)\n",
    "\n",
    "\n",
    "\n",
    "\n",
    "\n",
    "\n",
    "\n",
    "\n",
    "\n",
    "\n",
    "\n",
    "\n",
    "\n"
   ]
  },
  {
   "cell_type": "code",
   "execution_count": null,
   "id": "a4da1933",
   "metadata": {},
   "outputs": [],
   "source": [
    "import datetime\n",
    "today= datetime.date.today()\n",
    "print(today)"
   ]
  },
  {
   "cell_type": "code",
   "execution_count": 25,
   "id": "8e65a0b9",
   "metadata": {},
   "outputs": [
    {
     "data": {
      "text/plain": [
       "list"
      ]
     },
     "execution_count": 25,
     "metadata": {},
     "output_type": "execute_result"
    }
   ],
   "source": [
    "import csv\n",
    "header=['title','ratings','Date']\n",
    "data=[title,ratings,today]\n",
    "type(data)"
   ]
  },
  {
   "cell_type": "code",
   "execution_count": 27,
   "id": "a61d8967",
   "metadata": {},
   "outputs": [],
   "source": [
    "### create a csv \n",
    "with open('Amazonwebscraper2Dataset.csv','w',newline='',encoding='UTF8') as f:\n",
    "    writer=csv.writer(f)\n",
    "    writer.writerow(header)\n",
    "    writer.writerow(data)"
   ]
  },
  {
   "cell_type": "code",
   "execution_count": 33,
   "id": "c82996fc",
   "metadata": {},
   "outputs": [
    {
     "name": "stdout",
     "output_type": "stream",
     "text": [
      "                                              title         ratings  \\\n",
      "0  Bosch Pro 1000W Mixer Grinder MGM8842MIN - Black  12,060 ratings   \n",
      "1  Bosch Pro 1000W Mixer Grinder MGM8842MIN - Black  12,060 ratings   \n",
      "\n",
      "         Date  \n",
      "0  2023-03-29  \n",
      "1  2023-03-29  \n"
     ]
    }
   ],
   "source": [
    "import pandas as pd\n",
    "df=pd.read_csv(r\"C:\\Users\\sushm\\Amazonwebscraper2Dataset.csv\")\n",
    "print(df)"
   ]
  },
  {
   "cell_type": "code",
   "execution_count": 32,
   "id": "8a8629b5",
   "metadata": {},
   "outputs": [],
   "source": [
    "### now we are goimg to append the data\n",
    "with open('Amazonwebscraper2Dataset.csv','a+',newline='',encoding='UTF8') as f:\n",
    "    writer=csv.writer(f)\n",
    "    writer.writerow(data)"
   ]
  },
  {
   "cell_type": "code",
   "execution_count": 35,
   "id": "d5e2ecd3",
   "metadata": {},
   "outputs": [],
   "source": [
    "def check_ratings():\n",
    "    url=\"https://www.amazon.in/Bosch-TrueMixx-Pro-Grinder-Watt-MGM8842MIN/dp/B07MKMFKPG/ref=sr_1_3?keywords=bosch+mixie&qid=1680034061&s=kitchen&sr=1-3\"\n",
    "\n",
    "    headers= {\"User-Agent\": \"Mozilla/5.0 (Windows NT 10.0; Win64; x64) AppleWebKit/537.36 (KHTML, like Gecko) Chrome/111.0.0.0 Safari/537.36\", \n",
    "    \"X-Amzn-Trace-Id\": \"Root=1-64234c83-1e5a7aeb47e8a441188a9744\"}\n",
    "    page=requests.get(url,headers=headers)\n",
    "    soup1=BeautifulSoup(page.content,\"html.parser\")\n",
    "    soup2=BeautifulSoup(soup1.prettify(),\"html.parser\")\n",
    "    title= soup2.find(id='productTitle').get_text()\n",
    "    ratings=soup2.find(id=\"acrCustomerReviewLink\").get_text()\n",
    "    title=title.strip()\n",
    "    ratings=ratings.strip()\n",
    "    print(title)\n",
    "    print(ratings)\n",
    "    import datetime\n",
    "    today= datetime.date.today()\n",
    "    import csv\n",
    "    header=['title','ratings','Date']\n",
    "    data=[title,ratings,today]\n",
    "    with open('Amazonwebscraper2Dataset.csv','a+',newline='',encoding='UTF8') as f:\n",
    "        writer=csv.writer(f)\n",
    "        writer.writerow(data)\n",
    "    \n",
    "    "
   ]
  },
  {
   "cell_type": "code",
   "execution_count": null,
   "id": "98e935f6",
   "metadata": {},
   "outputs": [
    {
     "name": "stdout",
     "output_type": "stream",
     "text": [
      "Bosch Pro 1000W Mixer Grinder MGM8842MIN - Black\n",
      "12,060 ratings\n",
      "Bosch Pro 1000W Mixer Grinder MGM8842MIN - Black\n",
      "12,060 ratings\n",
      "Bosch Pro 1000W Mixer Grinder MGM8842MIN - Black\n",
      "12,060 ratings\n",
      "Bosch Pro 1000W Mixer Grinder MGM8842MIN - Black\n",
      "12,060 ratings\n",
      "Bosch Pro 1000W Mixer Grinder MGM8842MIN - Black\n",
      "12,060 ratings\n",
      "Bosch Pro 1000W Mixer Grinder MGM8842MIN - Black\n",
      "12,060 ratings\n",
      "Bosch Pro 1000W Mixer Grinder MGM8842MIN - Black\n",
      "12,060 ratings\n",
      "Bosch Pro 1000W Mixer Grinder MGM8842MIN - Black\n",
      "12,060 ratings\n",
      "Bosch Pro 1000W Mixer Grinder MGM8842MIN - Black\n",
      "12,060 ratings\n",
      "Bosch Pro 1000W Mixer Grinder MGM8842MIN - Black\n",
      "12,060 ratings\n",
      "Bosch Pro 1000W Mixer Grinder MGM8842MIN - Black\n",
      "12,060 ratings\n",
      "Bosch Pro 1000W Mixer Grinder MGM8842MIN - Black\n",
      "12,060 ratings\n",
      "Bosch Pro 1000W Mixer Grinder MGM8842MIN - Black\n",
      "12,060 ratings\n",
      "Bosch Pro 1000W Mixer Grinder MGM8842MIN - Black\n",
      "12,060 ratings\n",
      "Bosch Pro 1000W Mixer Grinder MGM8842MIN - Black\n",
      "12,060 ratings\n",
      "Bosch Pro 1000W Mixer Grinder MGM8842MIN - Black\n",
      "12,060 ratings\n",
      "Bosch Pro 1000W Mixer Grinder MGM8842MIN - Black\n",
      "12,060 ratings\n",
      "Bosch Pro 1000W Mixer Grinder MGM8842MIN - Black\n",
      "12,060 ratings\n",
      "Bosch Pro 1000W Mixer Grinder MGM8842MIN - Black\n",
      "12,060 ratings\n",
      "Bosch Pro 1000W Mixer Grinder MGM8842MIN - Black\n",
      "12,060 ratings\n",
      "Bosch Pro 1000W Mixer Grinder MGM8842MIN - Black\n",
      "12,060 ratings\n",
      "Bosch Pro 1000W Mixer Grinder MGM8842MIN - Black\n",
      "12,060 ratings\n",
      "Bosch Pro 1000W Mixer Grinder MGM8842MIN - Black\n",
      "12,060 ratings\n",
      "Bosch Pro 1000W Mixer Grinder MGM8842MIN - Black\n",
      "12,060 ratings\n",
      "Bosch Pro 1000W Mixer Grinder MGM8842MIN - Black\n",
      "12,060 ratings\n",
      "Bosch Pro 1000W Mixer Grinder MGM8842MIN - Black\n",
      "12,060 ratings\n",
      "Bosch Pro 1000W Mixer Grinder MGM8842MIN - Black\n",
      "12,060 ratings\n",
      "Bosch Pro 1000W Mixer Grinder MGM8842MIN - Black\n",
      "12,060 ratings\n",
      "Bosch Pro 1000W Mixer Grinder MGM8842MIN - Black\n",
      "12,060 ratings\n",
      "Bosch Pro 1000W Mixer Grinder MGM8842MIN - Black\n",
      "12,060 ratings\n",
      "Bosch Pro 1000W Mixer Grinder MGM8842MIN - Black\n",
      "12,060 ratings\n",
      "Bosch Pro 1000W Mixer Grinder MGM8842MIN - Black\n",
      "12,060 ratings\n",
      "Bosch Pro 1000W Mixer Grinder MGM8842MIN - Black\n",
      "12,060 ratings\n",
      "Bosch Pro 1000W Mixer Grinder MGM8842MIN - Black\n",
      "12,060 ratings\n",
      "Bosch Pro 1000W Mixer Grinder MGM8842MIN - Black\n",
      "12,060 ratings\n",
      "Bosch Pro 1000W Mixer Grinder MGM8842MIN - Black\n",
      "12,060 ratings\n",
      "Bosch Pro 1000W Mixer Grinder MGM8842MIN - Black\n",
      "12,060 ratings\n",
      "Bosch Pro 1000W Mixer Grinder MGM8842MIN - Black\n",
      "12,060 ratings\n",
      "Bosch Pro 1000W Mixer Grinder MGM8842MIN - Black\n",
      "12,060 ratings\n",
      "Bosch Pro 1000W Mixer Grinder MGM8842MIN - Black\n",
      "12,060 ratings\n",
      "Bosch Pro 1000W Mixer Grinder MGM8842MIN - Black\n",
      "12,060 ratings\n",
      "Bosch Pro 1000W Mixer Grinder MGM8842MIN - Black\n",
      "12,060 ratings\n",
      "Bosch Pro 1000W Mixer Grinder MGM8842MIN - Black\n",
      "12,060 ratings\n",
      "Bosch Pro 1000W Mixer Grinder MGM8842MIN - Black\n",
      "12,060 ratings\n",
      "Bosch Pro 1000W Mixer Grinder MGM8842MIN - Black\n",
      "12,060 ratings\n",
      "Bosch Pro 1000W Mixer Grinder MGM8842MIN - Black\n",
      "12,060 ratings\n",
      "Bosch Pro 1000W Mixer Grinder MGM8842MIN - Black\n",
      "12,060 ratings\n",
      "Bosch Pro 1000W Mixer Grinder MGM8842MIN - Black\n",
      "12,060 ratings\n",
      "Bosch Pro 1000W Mixer Grinder MGM8842MIN - Black\n",
      "12,060 ratings\n",
      "Bosch Pro 1000W Mixer Grinder MGM8842MIN - Black\n",
      "12,060 ratings\n",
      "Bosch Pro 1000W Mixer Grinder MGM8842MIN - Black\n",
      "12,060 ratings\n",
      "Bosch Pro 1000W Mixer Grinder MGM8842MIN - Black\n",
      "12,060 ratings\n",
      "Bosch Pro 1000W Mixer Grinder MGM8842MIN - Black\n",
      "12,060 ratings\n",
      "Bosch Pro 1000W Mixer Grinder MGM8842MIN - Black\n",
      "12,060 ratings\n",
      "Bosch Pro 1000W Mixer Grinder MGM8842MIN - Black\n",
      "12,060 ratings\n",
      "Bosch Pro 1000W Mixer Grinder MGM8842MIN - Black\n",
      "12,060 ratings\n",
      "Bosch Pro 1000W Mixer Grinder MGM8842MIN - Black\n",
      "12,060 ratings\n",
      "Bosch Pro 1000W Mixer Grinder MGM8842MIN - Black\n",
      "12,060 ratings\n",
      "Bosch Pro 1000W Mixer Grinder MGM8842MIN - Black\n",
      "12,060 ratings\n",
      "Bosch Pro 1000W Mixer Grinder MGM8842MIN - Black\n",
      "12,060 ratings\n",
      "Bosch Pro 1000W Mixer Grinder MGM8842MIN - Black\n",
      "12,060 ratings\n",
      "Bosch Pro 1000W Mixer Grinder MGM8842MIN - Black\n",
      "12,060 ratings\n",
      "Bosch Pro 1000W Mixer Grinder MGM8842MIN - Black\n",
      "12,060 ratings\n",
      "Bosch Pro 1000W Mixer Grinder MGM8842MIN - Black\n",
      "12,060 ratings\n",
      "Bosch Pro 1000W Mixer Grinder MGM8842MIN - Black\n",
      "12,060 ratings\n",
      "Bosch Pro 1000W Mixer Grinder MGM8842MIN - Black\n",
      "12,060 ratings\n",
      "Bosch Pro 1000W Mixer Grinder MGM8842MIN - Black\n",
      "12,060 ratings\n",
      "Bosch Pro 1000W Mixer Grinder MGM8842MIN - Black\n",
      "12,060 ratings\n",
      "Bosch Pro 1000W Mixer Grinder MGM8842MIN - Black\n",
      "12,060 ratings\n",
      "Bosch Pro 1000W Mixer Grinder MGM8842MIN - Black\n",
      "12,060 ratings\n",
      "Bosch Pro 1000W Mixer Grinder MGM8842MIN - Black\n",
      "12,060 ratings\n",
      "Bosch Pro 1000W Mixer Grinder MGM8842MIN - Black\n",
      "12,060 ratings\n",
      "Bosch Pro 1000W Mixer Grinder MGM8842MIN - Black\n",
      "12,060 ratings\n",
      "Bosch Pro 1000W Mixer Grinder MGM8842MIN - Black\n",
      "12,060 ratings\n",
      "Bosch Pro 1000W Mixer Grinder MGM8842MIN - Black\n",
      "12,060 ratings\n",
      "Bosch Pro 1000W Mixer Grinder MGM8842MIN - Black\n",
      "12,060 ratings\n",
      "Bosch Pro 1000W Mixer Grinder MGM8842MIN - Black\n",
      "12,060 ratings\n",
      "Bosch Pro 1000W Mixer Grinder MGM8842MIN - Black\n",
      "12,060 ratings\n",
      "Bosch Pro 1000W Mixer Grinder MGM8842MIN - Black\n",
      "12,060 ratings\n",
      "Bosch Pro 1000W Mixer Grinder MGM8842MIN - Black\n",
      "12,060 ratings\n",
      "Bosch Pro 1000W Mixer Grinder MGM8842MIN - Black\n",
      "12,060 ratings\n"
     ]
    }
   ],
   "source": [
    "while(True):\n",
    "    check_ratings()\n",
    "    time.sleep(5)"
   ]
  },
  {
   "cell_type": "code",
   "execution_count": null,
   "id": "6e74f582",
   "metadata": {},
   "outputs": [],
   "source": [
    "import pandas as pd\n",
    "df=pd.read_csv(r\"C:\\Users\\sushm\\Amazonwebscraper2Dataset.csv\")\n",
    "print(df)"
   ]
  },
  {
   "cell_type": "code",
   "execution_count": null,
   "id": "c2dd7cb0",
   "metadata": {},
   "outputs": [],
   "source": []
  }
 ],
 "metadata": {
  "kernelspec": {
   "display_name": "Python 3 (ipykernel)",
   "language": "python",
   "name": "python3"
  },
  "language_info": {
   "codemirror_mode": {
    "name": "ipython",
    "version": 3
   },
   "file_extension": ".py",
   "mimetype": "text/x-python",
   "name": "python",
   "nbconvert_exporter": "python",
   "pygments_lexer": "ipython3",
   "version": "3.9.7"
  }
 },
 "nbformat": 4,
 "nbformat_minor": 5
}
